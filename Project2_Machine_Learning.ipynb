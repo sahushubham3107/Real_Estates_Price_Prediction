{
  "nbformat": 4,
  "nbformat_minor": 0,
  "metadata": {
    "colab": {
      "name": "Project2_Machine_Learning.ipynb",
      "provenance": [],
      "collapsed_sections": [],
      "authorship_tag": "ABX9TyM1bkpTHul9Bn6K1jls/iYH",
      "include_colab_link": true
    },
    "kernelspec": {
      "name": "python3",
      "display_name": "Python 3"
    },
    "language_info": {
      "name": "python"
    }
  },
  "cells": [
    {
      "cell_type": "markdown",
      "metadata": {
        "id": "view-in-github",
        "colab_type": "text"
      },
      "source": [
        "<a href=\"https://colab.research.google.com/github/sahushubham3107/Real_Estates_Price_Prediction/blob/main/Project2_Machine_Learning.ipynb\" target=\"_parent\"><img src=\"https://colab.research.google.com/assets/colab-badge.svg\" alt=\"Open In Colab\"/></a>"
      ]
    },
    {
      "cell_type": "markdown",
      "source": [
        "**DRAGON Real Estates Price Predictor Company**"
      ],
      "metadata": {
        "id": "N57vMIvpFKSk"
      }
    },
    {
      "cell_type": "markdown",
      "source": [
        "- Given dataset of house prices along with some features like no. of bathrooms, no of bedrooms. etc\n",
        "- Using these input features our model will predict the price for any new house by looking at the features.\n",
        "- This model work with actual dataset or no artificial training data is used."
      ],
      "metadata": {
        "id": "K1HgthPPFiED"
      }
    },
    {
      "cell_type": "code",
      "source": [
        "import pandas as pd  \n",
        "housing = pd.read_csv(\"data.csv\")"
      ],
      "metadata": {
        "id": "Rp6kMHZwFvtz"
      },
      "execution_count": 1,
      "outputs": []
    },
    {
      "cell_type": "code",
      "source": [
        "# reading the first five values of the dataset\n",
        "housing.head()"
      ],
      "metadata": {
        "colab": {
          "base_uri": "https://localhost:8080/",
          "height": 206
        },
        "id": "e_mv4HJDFSB5",
        "outputId": "104364f8-33ef-4037-a933-e6472fdd104a"
      },
      "execution_count": 2,
      "outputs": [
        {
          "output_type": "execute_result",
          "data": {
            "text/plain": [
              "      CRIM    ZN  INDUS   CHAS    NOX     RM   AGE     DIS  RAD  TAX  PTRATIO  \\\n",
              "0  0.00632  18.0    2.31     0  0.538  6.575  65.2  4.0900    1  296     15.3   \n",
              "1  0.02731   0.0    7.07     0  0.469  6.421  78.9  4.9671    2  242     17.8   \n",
              "2  0.02729   0.0    7.07     0  0.469  7.185  61.1  4.9671    2  242     17.8   \n",
              "3  0.03237   0.0    2.18     0  0.458  6.998  45.8  6.0622    3  222     18.7   \n",
              "4  0.06905   0.0    2.18     0  0.458    NaN  54.2  6.0622    3  222     18.7   \n",
              "\n",
              "        B  LSTAT  MEDV  \n",
              "0  396.90   4.98  24.0  \n",
              "1  396.90   9.14  21.6  \n",
              "2  392.83   4.03  34.7  \n",
              "3  394.63   2.94  33.4  \n",
              "4  396.90   5.33  36.2  "
            ],
            "text/html": [
              "\n",
              "  <div id=\"df-6e61de85-46a8-4570-bf3f-3afc6aa486b5\">\n",
              "    <div class=\"colab-df-container\">\n",
              "      <div>\n",
              "<style scoped>\n",
              "    .dataframe tbody tr th:only-of-type {\n",
              "        vertical-align: middle;\n",
              "    }\n",
              "\n",
              "    .dataframe tbody tr th {\n",
              "        vertical-align: top;\n",
              "    }\n",
              "\n",
              "    .dataframe thead th {\n",
              "        text-align: right;\n",
              "    }\n",
              "</style>\n",
              "<table border=\"1\" class=\"dataframe\">\n",
              "  <thead>\n",
              "    <tr style=\"text-align: right;\">\n",
              "      <th></th>\n",
              "      <th>CRIM</th>\n",
              "      <th>ZN</th>\n",
              "      <th>INDUS</th>\n",
              "      <th>CHAS</th>\n",
              "      <th>NOX</th>\n",
              "      <th>RM</th>\n",
              "      <th>AGE</th>\n",
              "      <th>DIS</th>\n",
              "      <th>RAD</th>\n",
              "      <th>TAX</th>\n",
              "      <th>PTRATIO</th>\n",
              "      <th>B</th>\n",
              "      <th>LSTAT</th>\n",
              "      <th>MEDV</th>\n",
              "    </tr>\n",
              "  </thead>\n",
              "  <tbody>\n",
              "    <tr>\n",
              "      <th>0</th>\n",
              "      <td>0.00632</td>\n",
              "      <td>18.0</td>\n",
              "      <td>2.31</td>\n",
              "      <td>0</td>\n",
              "      <td>0.538</td>\n",
              "      <td>6.575</td>\n",
              "      <td>65.2</td>\n",
              "      <td>4.0900</td>\n",
              "      <td>1</td>\n",
              "      <td>296</td>\n",
              "      <td>15.3</td>\n",
              "      <td>396.90</td>\n",
              "      <td>4.98</td>\n",
              "      <td>24.0</td>\n",
              "    </tr>\n",
              "    <tr>\n",
              "      <th>1</th>\n",
              "      <td>0.02731</td>\n",
              "      <td>0.0</td>\n",
              "      <td>7.07</td>\n",
              "      <td>0</td>\n",
              "      <td>0.469</td>\n",
              "      <td>6.421</td>\n",
              "      <td>78.9</td>\n",
              "      <td>4.9671</td>\n",
              "      <td>2</td>\n",
              "      <td>242</td>\n",
              "      <td>17.8</td>\n",
              "      <td>396.90</td>\n",
              "      <td>9.14</td>\n",
              "      <td>21.6</td>\n",
              "    </tr>\n",
              "    <tr>\n",
              "      <th>2</th>\n",
              "      <td>0.02729</td>\n",
              "      <td>0.0</td>\n",
              "      <td>7.07</td>\n",
              "      <td>0</td>\n",
              "      <td>0.469</td>\n",
              "      <td>7.185</td>\n",
              "      <td>61.1</td>\n",
              "      <td>4.9671</td>\n",
              "      <td>2</td>\n",
              "      <td>242</td>\n",
              "      <td>17.8</td>\n",
              "      <td>392.83</td>\n",
              "      <td>4.03</td>\n",
              "      <td>34.7</td>\n",
              "    </tr>\n",
              "    <tr>\n",
              "      <th>3</th>\n",
              "      <td>0.03237</td>\n",
              "      <td>0.0</td>\n",
              "      <td>2.18</td>\n",
              "      <td>0</td>\n",
              "      <td>0.458</td>\n",
              "      <td>6.998</td>\n",
              "      <td>45.8</td>\n",
              "      <td>6.0622</td>\n",
              "      <td>3</td>\n",
              "      <td>222</td>\n",
              "      <td>18.7</td>\n",
              "      <td>394.63</td>\n",
              "      <td>2.94</td>\n",
              "      <td>33.4</td>\n",
              "    </tr>\n",
              "    <tr>\n",
              "      <th>4</th>\n",
              "      <td>0.06905</td>\n",
              "      <td>0.0</td>\n",
              "      <td>2.18</td>\n",
              "      <td>0</td>\n",
              "      <td>0.458</td>\n",
              "      <td>NaN</td>\n",
              "      <td>54.2</td>\n",
              "      <td>6.0622</td>\n",
              "      <td>3</td>\n",
              "      <td>222</td>\n",
              "      <td>18.7</td>\n",
              "      <td>396.90</td>\n",
              "      <td>5.33</td>\n",
              "      <td>36.2</td>\n",
              "    </tr>\n",
              "  </tbody>\n",
              "</table>\n",
              "</div>\n",
              "      <button class=\"colab-df-convert\" onclick=\"convertToInteractive('df-6e61de85-46a8-4570-bf3f-3afc6aa486b5')\"\n",
              "              title=\"Convert this dataframe to an interactive table.\"\n",
              "              style=\"display:none;\">\n",
              "        \n",
              "  <svg xmlns=\"http://www.w3.org/2000/svg\" height=\"24px\"viewBox=\"0 0 24 24\"\n",
              "       width=\"24px\">\n",
              "    <path d=\"M0 0h24v24H0V0z\" fill=\"none\"/>\n",
              "    <path d=\"M18.56 5.44l.94 2.06.94-2.06 2.06-.94-2.06-.94-.94-2.06-.94 2.06-2.06.94zm-11 1L8.5 8.5l.94-2.06 2.06-.94-2.06-.94L8.5 2.5l-.94 2.06-2.06.94zm10 10l.94 2.06.94-2.06 2.06-.94-2.06-.94-.94-2.06-.94 2.06-2.06.94z\"/><path d=\"M17.41 7.96l-1.37-1.37c-.4-.4-.92-.59-1.43-.59-.52 0-1.04.2-1.43.59L10.3 9.45l-7.72 7.72c-.78.78-.78 2.05 0 2.83L4 21.41c.39.39.9.59 1.41.59.51 0 1.02-.2 1.41-.59l7.78-7.78 2.81-2.81c.8-.78.8-2.07 0-2.86zM5.41 20L4 18.59l7.72-7.72 1.47 1.35L5.41 20z\"/>\n",
              "  </svg>\n",
              "      </button>\n",
              "      \n",
              "  <style>\n",
              "    .colab-df-container {\n",
              "      display:flex;\n",
              "      flex-wrap:wrap;\n",
              "      gap: 12px;\n",
              "    }\n",
              "\n",
              "    .colab-df-convert {\n",
              "      background-color: #E8F0FE;\n",
              "      border: none;\n",
              "      border-radius: 50%;\n",
              "      cursor: pointer;\n",
              "      display: none;\n",
              "      fill: #1967D2;\n",
              "      height: 32px;\n",
              "      padding: 0 0 0 0;\n",
              "      width: 32px;\n",
              "    }\n",
              "\n",
              "    .colab-df-convert:hover {\n",
              "      background-color: #E2EBFA;\n",
              "      box-shadow: 0px 1px 2px rgba(60, 64, 67, 0.3), 0px 1px 3px 1px rgba(60, 64, 67, 0.15);\n",
              "      fill: #174EA6;\n",
              "    }\n",
              "\n",
              "    [theme=dark] .colab-df-convert {\n",
              "      background-color: #3B4455;\n",
              "      fill: #D2E3FC;\n",
              "    }\n",
              "\n",
              "    [theme=dark] .colab-df-convert:hover {\n",
              "      background-color: #434B5C;\n",
              "      box-shadow: 0px 1px 3px 1px rgba(0, 0, 0, 0.15);\n",
              "      filter: drop-shadow(0px 1px 2px rgba(0, 0, 0, 0.3));\n",
              "      fill: #FFFFFF;\n",
              "    }\n",
              "  </style>\n",
              "\n",
              "      <script>\n",
              "        const buttonEl =\n",
              "          document.querySelector('#df-6e61de85-46a8-4570-bf3f-3afc6aa486b5 button.colab-df-convert');\n",
              "        buttonEl.style.display =\n",
              "          google.colab.kernel.accessAllowed ? 'block' : 'none';\n",
              "\n",
              "        async function convertToInteractive(key) {\n",
              "          const element = document.querySelector('#df-6e61de85-46a8-4570-bf3f-3afc6aa486b5');\n",
              "          const dataTable =\n",
              "            await google.colab.kernel.invokeFunction('convertToInteractive',\n",
              "                                                     [key], {});\n",
              "          if (!dataTable) return;\n",
              "\n",
              "          const docLinkHtml = 'Like what you see? Visit the ' +\n",
              "            '<a target=\"_blank\" href=https://colab.research.google.com/notebooks/data_table.ipynb>data table notebook</a>'\n",
              "            + ' to learn more about interactive tables.';\n",
              "          element.innerHTML = '';\n",
              "          dataTable['output_type'] = 'display_data';\n",
              "          await google.colab.output.renderOutput(dataTable, element);\n",
              "          const docLink = document.createElement('div');\n",
              "          docLink.innerHTML = docLinkHtml;\n",
              "          element.appendChild(docLink);\n",
              "        }\n",
              "      </script>\n",
              "    </div>\n",
              "  </div>\n",
              "  "
            ]
          },
          "metadata": {},
          "execution_count": 2
        }
      ]
    },
    {
      "cell_type": "code",
      "source": [
        "# general information of the dataset\n",
        " ## to check whether any entry is missing or not\n",
        "housing.info()"
      ],
      "metadata": {
        "colab": {
          "base_uri": "https://localhost:8080/"
        },
        "id": "ZUpGhut1NsC0",
        "outputId": "a7e662b9-b708-4021-f12f-48708b22ae5c"
      },
      "execution_count": 3,
      "outputs": [
        {
          "output_type": "stream",
          "name": "stdout",
          "text": [
            "<class 'pandas.core.frame.DataFrame'>\n",
            "RangeIndex: 506 entries, 0 to 505\n",
            "Data columns (total 14 columns):\n",
            " #   Column   Non-Null Count  Dtype  \n",
            "---  ------   --------------  -----  \n",
            " 0   CRIM     506 non-null    float64\n",
            " 1   ZN       506 non-null    float64\n",
            " 2   INDUS    506 non-null    float64\n",
            " 3   CHAS     506 non-null    int64  \n",
            " 4   NOX      506 non-null    float64\n",
            " 5   RM       501 non-null    float64\n",
            " 6   AGE      506 non-null    float64\n",
            " 7   DIS      506 non-null    float64\n",
            " 8   RAD      506 non-null    int64  \n",
            " 9   TAX      506 non-null    int64  \n",
            " 10  PTRATIO  506 non-null    float64\n",
            " 11  B        506 non-null    float64\n",
            " 12  LSTAT    506 non-null    float64\n",
            " 13  MEDV     506 non-null    float64\n",
            "dtypes: float64(11), int64(3)\n",
            "memory usage: 55.5 KB\n"
          ]
        }
      ]
    },
    {
      "cell_type": "code",
      "source": [
        "# Just to check the counts of the data\n",
        "housing['CHAS'].value_counts()"
      ],
      "metadata": {
        "colab": {
          "base_uri": "https://localhost:8080/"
        },
        "id": "j5lLqjhsPSDF",
        "outputId": "4401e864-a1be-41f9-cc76-53d95a778289"
      },
      "execution_count": 4,
      "outputs": [
        {
          "output_type": "execute_result",
          "data": {
            "text/plain": [
              "0    471\n",
              "1     35\n",
              "Name: CHAS, dtype: int64"
            ]
          },
          "metadata": {},
          "execution_count": 4
        }
      ]
    },
    {
      "cell_type": "markdown",
      "source": [
        "- Above output is showing that out of 506 entries in column of CHAS, 471 entries are 0 and remaining 35 entries are 1"
      ],
      "metadata": {
        "id": "TV68fTWhPiB8"
      }
    },
    {
      "cell_type": "code",
      "source": [
        "# To get all the details about the numeric data in the whole dataset\n",
        "housing.describe()"
      ],
      "metadata": {
        "colab": {
          "base_uri": "https://localhost:8080/",
          "height": 300
        },
        "id": "q7CIB7bJPW-K",
        "outputId": "c6c99a2f-2845-43ea-b4e4-bbdc0d9ea02b"
      },
      "execution_count": 5,
      "outputs": [
        {
          "output_type": "execute_result",
          "data": {
            "text/plain": [
              "             CRIM          ZN      INDUS         CHAS         NOX          RM  \\\n",
              "count  506.000000  506.000000  506.000000  506.000000  506.000000  501.000000   \n",
              "mean     3.613524   11.363636   11.136779    0.069170    0.554695    6.285786   \n",
              "std      8.601545   23.322453    6.860353    0.253994    0.115878    0.703709   \n",
              "min      0.006320    0.000000    0.460000    0.000000    0.385000    3.561000   \n",
              "25%      0.082045    0.000000    5.190000    0.000000    0.449000    5.885000   \n",
              "50%      0.256510    0.000000    9.690000    0.000000    0.538000    6.209000   \n",
              "75%      3.677083   12.500000   18.100000    0.000000    0.624000    6.625000   \n",
              "max     88.976200  100.000000   27.740000    1.000000    0.871000    8.780000   \n",
              "\n",
              "              AGE         DIS         RAD         TAX     PTRATIO           B  \\\n",
              "count  506.000000  506.000000  506.000000  506.000000  506.000000  506.000000   \n",
              "mean    68.574901    3.795043    9.549407  408.237154   18.455534  356.674032   \n",
              "std     28.148861    2.105710    8.707259  168.537116    2.164946   91.294864   \n",
              "min      2.900000    1.129600    1.000000  187.000000   12.600000    0.320000   \n",
              "25%     45.025000    2.100175    4.000000  279.000000   17.400000  375.377500   \n",
              "50%     77.500000    3.207450    5.000000  330.000000   19.050000  391.440000   \n",
              "75%     94.075000    5.188425   24.000000  666.000000   20.200000  396.225000   \n",
              "max    100.000000   12.126500   24.000000  711.000000   22.000000  396.900000   \n",
              "\n",
              "            LSTAT        MEDV  \n",
              "count  506.000000  506.000000  \n",
              "mean    12.653063   22.532806  \n",
              "std      7.141062    9.197104  \n",
              "min      1.730000    5.000000  \n",
              "25%      6.950000   17.025000  \n",
              "50%     11.360000   21.200000  \n",
              "75%     16.955000   25.000000  \n",
              "max     37.970000   50.000000  "
            ],
            "text/html": [
              "\n",
              "  <div id=\"df-549cbd21-7626-4e89-b1ea-92cc555956a4\">\n",
              "    <div class=\"colab-df-container\">\n",
              "      <div>\n",
              "<style scoped>\n",
              "    .dataframe tbody tr th:only-of-type {\n",
              "        vertical-align: middle;\n",
              "    }\n",
              "\n",
              "    .dataframe tbody tr th {\n",
              "        vertical-align: top;\n",
              "    }\n",
              "\n",
              "    .dataframe thead th {\n",
              "        text-align: right;\n",
              "    }\n",
              "</style>\n",
              "<table border=\"1\" class=\"dataframe\">\n",
              "  <thead>\n",
              "    <tr style=\"text-align: right;\">\n",
              "      <th></th>\n",
              "      <th>CRIM</th>\n",
              "      <th>ZN</th>\n",
              "      <th>INDUS</th>\n",
              "      <th>CHAS</th>\n",
              "      <th>NOX</th>\n",
              "      <th>RM</th>\n",
              "      <th>AGE</th>\n",
              "      <th>DIS</th>\n",
              "      <th>RAD</th>\n",
              "      <th>TAX</th>\n",
              "      <th>PTRATIO</th>\n",
              "      <th>B</th>\n",
              "      <th>LSTAT</th>\n",
              "      <th>MEDV</th>\n",
              "    </tr>\n",
              "  </thead>\n",
              "  <tbody>\n",
              "    <tr>\n",
              "      <th>count</th>\n",
              "      <td>506.000000</td>\n",
              "      <td>506.000000</td>\n",
              "      <td>506.000000</td>\n",
              "      <td>506.000000</td>\n",
              "      <td>506.000000</td>\n",
              "      <td>501.000000</td>\n",
              "      <td>506.000000</td>\n",
              "      <td>506.000000</td>\n",
              "      <td>506.000000</td>\n",
              "      <td>506.000000</td>\n",
              "      <td>506.000000</td>\n",
              "      <td>506.000000</td>\n",
              "      <td>506.000000</td>\n",
              "      <td>506.000000</td>\n",
              "    </tr>\n",
              "    <tr>\n",
              "      <th>mean</th>\n",
              "      <td>3.613524</td>\n",
              "      <td>11.363636</td>\n",
              "      <td>11.136779</td>\n",
              "      <td>0.069170</td>\n",
              "      <td>0.554695</td>\n",
              "      <td>6.285786</td>\n",
              "      <td>68.574901</td>\n",
              "      <td>3.795043</td>\n",
              "      <td>9.549407</td>\n",
              "      <td>408.237154</td>\n",
              "      <td>18.455534</td>\n",
              "      <td>356.674032</td>\n",
              "      <td>12.653063</td>\n",
              "      <td>22.532806</td>\n",
              "    </tr>\n",
              "    <tr>\n",
              "      <th>std</th>\n",
              "      <td>8.601545</td>\n",
              "      <td>23.322453</td>\n",
              "      <td>6.860353</td>\n",
              "      <td>0.253994</td>\n",
              "      <td>0.115878</td>\n",
              "      <td>0.703709</td>\n",
              "      <td>28.148861</td>\n",
              "      <td>2.105710</td>\n",
              "      <td>8.707259</td>\n",
              "      <td>168.537116</td>\n",
              "      <td>2.164946</td>\n",
              "      <td>91.294864</td>\n",
              "      <td>7.141062</td>\n",
              "      <td>9.197104</td>\n",
              "    </tr>\n",
              "    <tr>\n",
              "      <th>min</th>\n",
              "      <td>0.006320</td>\n",
              "      <td>0.000000</td>\n",
              "      <td>0.460000</td>\n",
              "      <td>0.000000</td>\n",
              "      <td>0.385000</td>\n",
              "      <td>3.561000</td>\n",
              "      <td>2.900000</td>\n",
              "      <td>1.129600</td>\n",
              "      <td>1.000000</td>\n",
              "      <td>187.000000</td>\n",
              "      <td>12.600000</td>\n",
              "      <td>0.320000</td>\n",
              "      <td>1.730000</td>\n",
              "      <td>5.000000</td>\n",
              "    </tr>\n",
              "    <tr>\n",
              "      <th>25%</th>\n",
              "      <td>0.082045</td>\n",
              "      <td>0.000000</td>\n",
              "      <td>5.190000</td>\n",
              "      <td>0.000000</td>\n",
              "      <td>0.449000</td>\n",
              "      <td>5.885000</td>\n",
              "      <td>45.025000</td>\n",
              "      <td>2.100175</td>\n",
              "      <td>4.000000</td>\n",
              "      <td>279.000000</td>\n",
              "      <td>17.400000</td>\n",
              "      <td>375.377500</td>\n",
              "      <td>6.950000</td>\n",
              "      <td>17.025000</td>\n",
              "    </tr>\n",
              "    <tr>\n",
              "      <th>50%</th>\n",
              "      <td>0.256510</td>\n",
              "      <td>0.000000</td>\n",
              "      <td>9.690000</td>\n",
              "      <td>0.000000</td>\n",
              "      <td>0.538000</td>\n",
              "      <td>6.209000</td>\n",
              "      <td>77.500000</td>\n",
              "      <td>3.207450</td>\n",
              "      <td>5.000000</td>\n",
              "      <td>330.000000</td>\n",
              "      <td>19.050000</td>\n",
              "      <td>391.440000</td>\n",
              "      <td>11.360000</td>\n",
              "      <td>21.200000</td>\n",
              "    </tr>\n",
              "    <tr>\n",
              "      <th>75%</th>\n",
              "      <td>3.677083</td>\n",
              "      <td>12.500000</td>\n",
              "      <td>18.100000</td>\n",
              "      <td>0.000000</td>\n",
              "      <td>0.624000</td>\n",
              "      <td>6.625000</td>\n",
              "      <td>94.075000</td>\n",
              "      <td>5.188425</td>\n",
              "      <td>24.000000</td>\n",
              "      <td>666.000000</td>\n",
              "      <td>20.200000</td>\n",
              "      <td>396.225000</td>\n",
              "      <td>16.955000</td>\n",
              "      <td>25.000000</td>\n",
              "    </tr>\n",
              "    <tr>\n",
              "      <th>max</th>\n",
              "      <td>88.976200</td>\n",
              "      <td>100.000000</td>\n",
              "      <td>27.740000</td>\n",
              "      <td>1.000000</td>\n",
              "      <td>0.871000</td>\n",
              "      <td>8.780000</td>\n",
              "      <td>100.000000</td>\n",
              "      <td>12.126500</td>\n",
              "      <td>24.000000</td>\n",
              "      <td>711.000000</td>\n",
              "      <td>22.000000</td>\n",
              "      <td>396.900000</td>\n",
              "      <td>37.970000</td>\n",
              "      <td>50.000000</td>\n",
              "    </tr>\n",
              "  </tbody>\n",
              "</table>\n",
              "</div>\n",
              "      <button class=\"colab-df-convert\" onclick=\"convertToInteractive('df-549cbd21-7626-4e89-b1ea-92cc555956a4')\"\n",
              "              title=\"Convert this dataframe to an interactive table.\"\n",
              "              style=\"display:none;\">\n",
              "        \n",
              "  <svg xmlns=\"http://www.w3.org/2000/svg\" height=\"24px\"viewBox=\"0 0 24 24\"\n",
              "       width=\"24px\">\n",
              "    <path d=\"M0 0h24v24H0V0z\" fill=\"none\"/>\n",
              "    <path d=\"M18.56 5.44l.94 2.06.94-2.06 2.06-.94-2.06-.94-.94-2.06-.94 2.06-2.06.94zm-11 1L8.5 8.5l.94-2.06 2.06-.94-2.06-.94L8.5 2.5l-.94 2.06-2.06.94zm10 10l.94 2.06.94-2.06 2.06-.94-2.06-.94-.94-2.06-.94 2.06-2.06.94z\"/><path d=\"M17.41 7.96l-1.37-1.37c-.4-.4-.92-.59-1.43-.59-.52 0-1.04.2-1.43.59L10.3 9.45l-7.72 7.72c-.78.78-.78 2.05 0 2.83L4 21.41c.39.39.9.59 1.41.59.51 0 1.02-.2 1.41-.59l7.78-7.78 2.81-2.81c.8-.78.8-2.07 0-2.86zM5.41 20L4 18.59l7.72-7.72 1.47 1.35L5.41 20z\"/>\n",
              "  </svg>\n",
              "      </button>\n",
              "      \n",
              "  <style>\n",
              "    .colab-df-container {\n",
              "      display:flex;\n",
              "      flex-wrap:wrap;\n",
              "      gap: 12px;\n",
              "    }\n",
              "\n",
              "    .colab-df-convert {\n",
              "      background-color: #E8F0FE;\n",
              "      border: none;\n",
              "      border-radius: 50%;\n",
              "      cursor: pointer;\n",
              "      display: none;\n",
              "      fill: #1967D2;\n",
              "      height: 32px;\n",
              "      padding: 0 0 0 0;\n",
              "      width: 32px;\n",
              "    }\n",
              "\n",
              "    .colab-df-convert:hover {\n",
              "      background-color: #E2EBFA;\n",
              "      box-shadow: 0px 1px 2px rgba(60, 64, 67, 0.3), 0px 1px 3px 1px rgba(60, 64, 67, 0.15);\n",
              "      fill: #174EA6;\n",
              "    }\n",
              "\n",
              "    [theme=dark] .colab-df-convert {\n",
              "      background-color: #3B4455;\n",
              "      fill: #D2E3FC;\n",
              "    }\n",
              "\n",
              "    [theme=dark] .colab-df-convert:hover {\n",
              "      background-color: #434B5C;\n",
              "      box-shadow: 0px 1px 3px 1px rgba(0, 0, 0, 0.15);\n",
              "      filter: drop-shadow(0px 1px 2px rgba(0, 0, 0, 0.3));\n",
              "      fill: #FFFFFF;\n",
              "    }\n",
              "  </style>\n",
              "\n",
              "      <script>\n",
              "        const buttonEl =\n",
              "          document.querySelector('#df-549cbd21-7626-4e89-b1ea-92cc555956a4 button.colab-df-convert');\n",
              "        buttonEl.style.display =\n",
              "          google.colab.kernel.accessAllowed ? 'block' : 'none';\n",
              "\n",
              "        async function convertToInteractive(key) {\n",
              "          const element = document.querySelector('#df-549cbd21-7626-4e89-b1ea-92cc555956a4');\n",
              "          const dataTable =\n",
              "            await google.colab.kernel.invokeFunction('convertToInteractive',\n",
              "                                                     [key], {});\n",
              "          if (!dataTable) return;\n",
              "\n",
              "          const docLinkHtml = 'Like what you see? Visit the ' +\n",
              "            '<a target=\"_blank\" href=https://colab.research.google.com/notebooks/data_table.ipynb>data table notebook</a>'\n",
              "            + ' to learn more about interactive tables.';\n",
              "          element.innerHTML = '';\n",
              "          dataTable['output_type'] = 'display_data';\n",
              "          await google.colab.output.renderOutput(dataTable, element);\n",
              "          const docLink = document.createElement('div');\n",
              "          docLink.innerHTML = docLinkHtml;\n",
              "          element.appendChild(docLink);\n",
              "        }\n",
              "      </script>\n",
              "    </div>\n",
              "  </div>\n",
              "  "
            ]
          },
          "metadata": {},
          "execution_count": 5
        }
      ]
    },
    {
      "cell_type": "code",
      "source": [
        "# importing library to see all plots in a line\n",
        "%matplotlib inline  "
      ],
      "metadata": {
        "id": "F9adV55YQsPt"
      },
      "execution_count": 6,
      "outputs": []
    },
    {
      "cell_type": "markdown",
      "source": [
        "- Plotting the histograms of all the data for visual inspection of the data in a form of subplot"
      ],
      "metadata": {
        "id": "GvMjaeqVRPZu"
      }
    },
    {
      "cell_type": "code",
      "source": [
        "import matplotlib.pyplot as plt\n",
        "housing.hist(bins=50, figsize=(20,15))   # to plot the histogram"
      ],
      "metadata": {
        "colab": {
          "base_uri": "https://localhost:8080/",
          "height": 1000
        },
        "id": "aYFDhmDfQuse",
        "outputId": "b4af5c77-1eda-41ad-973e-191947cff13a"
      },
      "execution_count": 7,
      "outputs": [
        {
          "output_type": "execute_result",
          "data": {
            "text/plain": [
              "array([[<matplotlib.axes._subplots.AxesSubplot object at 0x7fe6b7a999d0>,\n",
              "        <matplotlib.axes._subplots.AxesSubplot object at 0x7fe6b7a74090>,\n",
              "        <matplotlib.axes._subplots.AxesSubplot object at 0x7fe6b7a30510>,\n",
              "        <matplotlib.axes._subplots.AxesSubplot object at 0x7fe6b79e4b10>],\n",
              "       [<matplotlib.axes._subplots.AxesSubplot object at 0x7fe6b79a9150>,\n",
              "        <matplotlib.axes._subplots.AxesSubplot object at 0x7fe6b795f750>,\n",
              "        <matplotlib.axes._subplots.AxesSubplot object at 0x7fe6b7916d50>,\n",
              "        <matplotlib.axes._subplots.AxesSubplot object at 0x7fe6b78d8390>],\n",
              "       [<matplotlib.axes._subplots.AxesSubplot object at 0x7fe6b78e24d0>,\n",
              "        <matplotlib.axes._subplots.AxesSubplot object at 0x7fe6b7899b90>,\n",
              "        <matplotlib.axes._subplots.AxesSubplot object at 0x7fe6b7888550>,\n",
              "        <matplotlib.axes._subplots.AxesSubplot object at 0x7fe6b783fb50>],\n",
              "       [<matplotlib.axes._subplots.AxesSubplot object at 0x7fe6b7803190>,\n",
              "        <matplotlib.axes._subplots.AxesSubplot object at 0x7fe6b77b8790>,\n",
              "        <matplotlib.axes._subplots.AxesSubplot object at 0x7fe6b776fd90>,\n",
              "        <matplotlib.axes._subplots.AxesSubplot object at 0x7fe6b77323d0>]],\n",
              "      dtype=object)"
            ]
          },
          "metadata": {},
          "execution_count": 7
        },
        {
          "output_type": "display_data",
          "data": {
            "text/plain": [
              "<Figure size 1440x1080 with 16 Axes>"
            ],
            "image/png": "[encoded data removed]"
          },
          "metadata": {
            "needs_background": "light"
          }
        }
      ]
    },
    {
      "cell_type": "code",
      "source": [
        "# Importing the numpy library\n",
        "import numpy as np"
      ],
      "metadata": {
        "id": "7Mt4T7mdYsKJ"
      },
      "execution_count": 8,
      "outputs": []
    },
    {
      "cell_type": "markdown",
      "source": [
        "**Splitting the test data from the training data**"
      ],
      "metadata": {
        "id": "OkwdMZjoS_-e"
      }
    },
    {
      "cell_type": "markdown",
      "source": [
        "- Algorithm for splitting the test-train data\n",
        "\n",
        "import numpy as np\n",
        "\n",
        "def split_train_test(data, test_ratio):\n",
        "\n",
        "np.random.seed(42)  # this won't allow to reshuffle data again and again because if the test data comes under training set our model will becomes overfitted\n",
        "\n",
        "  shuffled=np.random.permutation(len(data))  # this will apply permutation in the test data over its length\n",
        "\n",
        "print(shuffled)\n",
        "\n",
        "  test_set_size=int(len(data) * test_ratio)  # this will define the size of test_set\n",
        "\n",
        "  test_indices = shuffled[:test_set_size] \n",
        "\n",
        "  train_indices = shuffled[test_set_size:]\n",
        "\n",
        "  return data.iloc[train_indices], data.iloc[test_indices]"
      ],
      "metadata": {
        "id": "-1OzFH0QYXaW"
      }
    },
    {
      "cell_type": "markdown",
      "source": [
        "- The above return program is also saved in scikit learn library of python , we have just write the code for our understanding, Now we are going to use sklearn library"
      ],
      "metadata": {
        "id": "FNae5gziXeoH"
      }
    },
    {
      "cell_type": "code",
      "source": [
        "from sklearn.model_selection import train_test_split\n",
        "train_set, test_set = train_test_split(housing)"
      ],
      "metadata": {
        "id": "ne4iuBtnXwUT"
      },
      "execution_count": 9,
      "outputs": []
    },
    {
      "cell_type": "code",
      "source": [
        "# splitting the test set and training set\n",
        "train_set, test_set = train_test_split(housing, test_size=0.2, random_state=42)"
      ],
      "metadata": {
        "id": "7Hmc9ngnUn8l"
      },
      "execution_count": 10,
      "outputs": []
    },
    {
      "cell_type": "code",
      "source": [
        "# to see how many data are assigned to training set and test set\n",
        "print(f\"Rows in train set: {len(train_set)}\\n\")\n",
        "print(f\"Rows in test set: {len(test_set)}\")"
      ],
      "metadata": {
        "colab": {
          "base_uri": "https://localhost:8080/"
        },
        "id": "vuJ3ChRNVV8l",
        "outputId": "749df8a5-6dfe-4434-f753-0cda9ef97f34"
      },
      "execution_count": 11,
      "outputs": [
        {
          "output_type": "stream",
          "name": "stdout",
          "text": [
            "Rows in train set: 404\n",
            "\n",
            "Rows in test set: 102\n"
          ]
        }
      ]
    },
    {
      "cell_type": "markdown",
      "source": [
        "**Stratified Sampling**\n",
        "- Like in this example if CHAS is binary varible or it contains only two values either 0 or 1 but if the training set randomly takes similar type of value let say 1, then while we predict our test data it will got confuse and won't predict the model accurately so here we need stratified sampling to overcome this problem "
      ],
      "metadata": {
        "id": "HlBRV4nvaoV5"
      }
    },
    {
      "cell_type": "code",
      "source": [
        "from sklearn.model_selection import StratifiedShuffleSplit\n",
        "split = StratifiedShuffleSplit(n_splits=1, test_size=0.2, random_state=42)\n",
        "for train_index, test_index in split.split(housing, housing['CHAS']):\n",
        "  strat_train_set = housing.loc[train_index]\n",
        "  strat_test_set = housing.loc[test_index]"
      ],
      "metadata": {
        "id": "A7jVi-NaaBjC"
      },
      "execution_count": 12,
      "outputs": []
    },
    {
      "cell_type": "code",
      "source": [
        "strat_test_set['CHAS'].value_counts()"
      ],
      "metadata": {
        "colab": {
          "base_uri": "https://localhost:8080/"
        },
        "id": "3cevCHBudJLZ",
        "outputId": "5d632e23-cd4e-402e-b227-cb68e7e2cfb4"
      },
      "execution_count": 13,
      "outputs": [
        {
          "output_type": "execute_result",
          "data": {
            "text/plain": [
              "0    95\n",
              "1     7\n",
              "Name: CHAS, dtype: int64"
            ]
          },
          "metadata": {},
          "execution_count": 13
        }
      ]
    },
    {
      "cell_type": "code",
      "source": [
        "strat_train_set['CHAS'].value_counts()"
      ],
      "metadata": {
        "colab": {
          "base_uri": "https://localhost:8080/"
        },
        "id": "fXgz0W9WdfP2",
        "outputId": "81d2d193-87e5-4d38-bf62-5a11d4ec73b7"
      },
      "execution_count": 14,
      "outputs": [
        {
          "output_type": "execute_result",
          "data": {
            "text/plain": [
              "0    376\n",
              "1     28\n",
              "Name: CHAS, dtype: int64"
            ]
          },
          "metadata": {},
          "execution_count": 14
        }
      ]
    },
    {
      "cell_type": "markdown",
      "source": [
        "- Here from the stratified split we got almost the same ratio of the 0's and 1's as it is present in the original dataset\n"
      ],
      "metadata": {
        "id": "075yu1zcdr44"
      }
    },
    {
      "cell_type": "code",
      "source": [
        "housing = strat_train_set.copy()  # taking copy of train set in housing"
      ],
      "metadata": {
        "id": "b-WAhfk1FQz4"
      },
      "execution_count": 15,
      "outputs": []
    },
    {
      "cell_type": "markdown",
      "source": [
        "**Now lets look at the Corelation between the data**"
      ],
      "metadata": {
        "id": "rwXZ4Z9OeQOx"
      }
    },
    {
      "cell_type": "code",
      "source": [
        "corr_matrix = housing.corr()\n",
        "corr_matrix['MEDV'].sort_values(ascending=False)\n",
        "\n",
        "# MEDV that comes out from the output is called Strong Positive correlation\n",
        "  # positive values are positive correlation means by the increment of those values in the dataset our MEDV will also increase"
      ],
      "metadata": {
        "colab": {
          "base_uri": "https://localhost:8080/"
        },
        "id": "TSW_EQvtd5KJ",
        "outputId": "049f6d7c-7a93-47f5-8340-319e29ad2c00"
      },
      "execution_count": 16,
      "outputs": [
        {
          "output_type": "execute_result",
          "data": {
            "text/plain": [
              "MEDV       1.000000\n",
              "RM         0.679458\n",
              "B          0.361761\n",
              "ZN         0.339741\n",
              "DIS        0.240451\n",
              "CHAS       0.205066\n",
              "AGE       -0.364596\n",
              "RAD       -0.374693\n",
              "CRIM      -0.393715\n",
              "NOX       -0.422873\n",
              "TAX       -0.456657\n",
              "INDUS     -0.473516\n",
              "PTRATIO   -0.493534\n",
              "LSTAT     -0.740494\n",
              "Name: MEDV, dtype: float64"
            ]
          },
          "metadata": {},
          "execution_count": 16
        }
      ]
    },
    {
      "cell_type": "code",
      "source": [
        "# plotting the corelation between four features\n",
        "from pandas.plotting import scatter_matrix\n",
        "attributes = [\"MEDV\",\"RM\", \"ZN\", \"LSTAT\"]\n",
        "scatter_matrix(housing[attributes], figsize = (12,8))"
      ],
      "metadata": {
        "colab": {
          "base_uri": "https://localhost:8080/",
          "height": 798
        },
        "id": "xga0dLvdf4y2",
        "outputId": "5ab1d6c3-00b1-4671-a1e1-55ba93373c8c"
      },
      "execution_count": 17,
      "outputs": [
        {
          "output_type": "execute_result",
          "data": {
            "text/plain": [
              "array([[<matplotlib.axes._subplots.AxesSubplot object at 0x7fe6aa3a33d0>,\n",
              "        <matplotlib.axes._subplots.AxesSubplot object at 0x7fe6aa3cc0d0>,\n",
              "        <matplotlib.axes._subplots.AxesSubplot object at 0x7fe6aa385550>,\n",
              "        <matplotlib.axes._subplots.AxesSubplot object at 0x7fe6aa33cb10>],\n",
              "       [<matplotlib.axes._subplots.AxesSubplot object at 0x7fe6aa2ff150>,\n",
              "        <matplotlib.axes._subplots.AxesSubplot object at 0x7fe6aa2b8750>,\n",
              "        <matplotlib.axes._subplots.AxesSubplot object at 0x7fe6aa270110>,\n",
              "        <matplotlib.axes._subplots.AxesSubplot object at 0x7fe6aa229710>],\n",
              "       [<matplotlib.axes._subplots.AxesSubplot object at 0x7fe6aa233850>,\n",
              "        <matplotlib.axes._subplots.AxesSubplot object at 0x7fe6aa1e9f10>,\n",
              "        <matplotlib.axes._subplots.AxesSubplot object at 0x7fe6aa1d88d0>,\n",
              "        <matplotlib.axes._subplots.AxesSubplot object at 0x7fe6aa19a090>],\n",
              "       [<matplotlib.axes._subplots.AxesSubplot object at 0x7fe6aa152510>,\n",
              "        <matplotlib.axes._subplots.AxesSubplot object at 0x7fe6aa10bb10>,\n",
              "        <matplotlib.axes._subplots.AxesSubplot object at 0x7fe6aa0ce150>,\n",
              "        <matplotlib.axes._subplots.AxesSubplot object at 0x7fe6aa084750>]],\n",
              "      dtype=object)"
            ]
          },
          "metadata": {},
          "execution_count": 17
        },
        {
          "output_type": "display_data",
          "data": {
            "text/plain": [
              "<Figure size 864x576 with 16 Axes>"
            ],
            "image/png": "[encoded data removed]"
          },
          "metadata": {
            "needs_background": "light"
          }
        }
      ]
    },
    {
      "cell_type": "code",
      "source": [
        "housing.plot(kind='scatter', x=\"RM\", y=\"MEDV\", alpha=0.8)\n",
        "# here we are just plotting the corelation between RM and MEDV so that we can remove the outlet so that our model's accuracy increases"
      ],
      "metadata": {
        "colab": {
          "base_uri": "https://localhost:8080/",
          "height": 296
        },
        "id": "LeNOyEGCgh8C",
        "outputId": "449fb2a3-a602-4571-c466-e2d778ba6105"
      },
      "execution_count": 18,
      "outputs": [
        {
          "output_type": "execute_result",
          "data": {
            "text/plain": [
              "<matplotlib.axes._subplots.AxesSubplot at 0x7fe6a9df4590>"
            ]
          },
          "metadata": {},
          "execution_count": 18
        },
        {
          "output_type": "display_data",
          "data": {
            "text/plain": [
              "<Figure size 432x288 with 1 Axes>"
            ],
            "image/png": "[encoded data removed]"
          },
          "metadata": {
            "needs_background": "light"
          }
        }
      ]
    },
    {
      "cell_type": "markdown",
      "source": [
        "**Attributes Combinations**\n",
        "\n",
        "Trying this method if we want to define new features and want to see that how this new feature relates with the data\n",
        "\n",
        "Like in this case we have defined the new feature named as 'TAXRM'"
      ],
      "metadata": {
        "id": "yylJLkXUiQ3n"
      }
    },
    {
      "cell_type": "code",
      "source": [
        "housing['TAXRM']=housing['TAX']/housing['RM']\n",
        "housing.head()\n",
        "corr_matrix = housing.corr()\n",
        "corr_matrix['MEDV'].sort_values(ascending=False)\n",
        "housing.plot(kind='scatter', x=\"TAXRM\", y=\"MEDV\", alpha=0.8)"
      ],
      "metadata": {
        "colab": {
          "base_uri": "https://localhost:8080/",
          "height": 296
        },
        "id": "ntk1gcXeiFZ4",
        "outputId": "00f42031-d971-4be8-8208-861cb2e25b5c"
      },
      "execution_count": 19,
      "outputs": [
        {
          "output_type": "execute_result",
          "data": {
            "text/plain": [
              "<matplotlib.axes._subplots.AxesSubplot at 0x7fe6a85c4490>"
            ]
          },
          "metadata": {},
          "execution_count": 19
        },
        {
          "output_type": "display_data",
          "data": {
            "text/plain": [
              "<Figure size 432x288 with 1 Axes>"
            ],
            "image/png": "[encoded data removed]"
          },
          "metadata": {
            "needs_background": "light"
          }
        }
      ]
    },
    {
      "cell_type": "code",
      "source": [
        "housing = strat_train_set.drop(\"MEDV\", axis=1)\n",
        "housing_labels = strat_train_set[\"MEDV\"].copy()"
      ],
      "metadata": {
        "id": "TQ8eMfECOAT2"
      },
      "execution_count": 20,
      "outputs": []
    },
    {
      "cell_type": "markdown",
      "source": [
        "**Missing Attributes**\n",
        "\n",
        "To take care of missing attributes we have three options:\n",
        "- Get rid of the missing data point\n",
        "- Get rid of the whole attributes\n",
        "- Set the value to some value (either 0 or mean or mode which is suitable)"
      ],
      "metadata": {
        "id": "4L1gsz7fkjvA"
      }
    },
    {
      "cell_type": "code",
      "source": [
        "# For Option 1\n",
        "a = housing.dropna(subset=['RM'])\n",
        "a.shape\n",
        "# Also note that original housing dataframe will be as it is before"
      ],
      "metadata": {
        "colab": {
          "base_uri": "https://localhost:8080/"
        },
        "id": "3pux0gdpkiRY",
        "outputId": "d38a5a82-397f-49c4-84ef-488d21460356"
      },
      "execution_count": 21,
      "outputs": [
        {
          "output_type": "execute_result",
          "data": {
            "text/plain": [
              "(400, 13)"
            ]
          },
          "metadata": {},
          "execution_count": 21
        }
      ]
    },
    {
      "cell_type": "code",
      "source": [
        "# For Option 2 \n",
        "housing.drop(\"RM\", axis=1).shape  # if you want to drop column then use axis=1\n",
        "# Note that column RM will not be visible anymore\n",
        "# Also note that original housing dataframe will be as it is before"
      ],
      "metadata": {
        "colab": {
          "base_uri": "https://localhost:8080/"
        },
        "id": "Ih8ZKn10mx1y",
        "outputId": "baa92cb1-c914-4182-d393-1627be45634d"
      },
      "execution_count": 22,
      "outputs": [
        {
          "output_type": "execute_result",
          "data": {
            "text/plain": [
              "(404, 12)"
            ]
          },
          "metadata": {},
          "execution_count": 22
        }
      ]
    },
    {
      "cell_type": "code",
      "source": [
        "# For Option 3 \n",
        "median = housing[\"RM\"].median()  # this line will compute median for Option 3\n",
        "housing[\"RM\"].fillna(median)\n",
        "housing.shape"
      ],
      "metadata": {
        "colab": {
          "base_uri": "https://localhost:8080/"
        },
        "id": "545tdViznZDJ",
        "outputId": "7c4a09a2-c54a-4036-bfcc-3f5cd5f4264c"
      },
      "execution_count": 23,
      "outputs": [
        {
          "output_type": "execute_result",
          "data": {
            "text/plain": [
              "(404, 13)"
            ]
          },
          "metadata": {},
          "execution_count": 23
        }
      ]
    },
    {
      "cell_type": "markdown",
      "source": [
        "Checking the data of housing before imputing through describe function"
      ],
      "metadata": {
        "id": "NrwQqRfxF3vl"
      }
    },
    {
      "cell_type": "code",
      "source": [
        "# before we started filling missing attributes\n",
        "housing.describe()"
      ],
      "metadata": {
        "colab": {
          "base_uri": "https://localhost:8080/",
          "height": 300
        },
        "id": "ll4NYJGiF8dV",
        "outputId": "1b226b5e-23e3-4ed7-9a66-e7624a7a9c8e"
      },
      "execution_count": 24,
      "outputs": [
        {
          "output_type": "execute_result",
          "data": {
            "text/plain": [
              "             CRIM          ZN      INDUS         CHAS         NOX          RM  \\\n",
              "count  404.000000  404.000000  404.000000  404.000000  404.000000  400.000000   \n",
              "mean     3.602814   10.836634   11.344950    0.069307    0.558064    6.280312   \n",
              "std      8.099383   22.150636    6.877817    0.254290    0.116875    0.713848   \n",
              "min      0.006320    0.000000    0.740000    0.000000    0.389000    3.561000   \n",
              "25%      0.086962    0.000000    5.190000    0.000000    0.453000    5.878750   \n",
              "50%      0.286735    0.000000    9.900000    0.000000    0.538000    6.210000   \n",
              "75%      3.731923   12.500000   18.100000    0.000000    0.631000    6.630250   \n",
              "max     73.534100  100.000000   27.740000    1.000000    0.871000    8.780000   \n",
              "\n",
              "              AGE         DIS         RAD         TAX     PTRATIO           B  \\\n",
              "count  404.000000  404.000000  404.000000  404.000000  404.000000  404.000000   \n",
              "mean    69.039851    3.746210    9.735149  412.341584   18.473267  353.392822   \n",
              "std     28.258248    2.099057    8.731259  168.672623    2.129243   96.069235   \n",
              "min      2.900000    1.129600    1.000000  187.000000   13.000000    0.320000   \n",
              "25%     44.850000    2.035975    4.000000  284.000000   17.400000  374.617500   \n",
              "50%     78.200000    3.122200    5.000000  337.000000   19.000000  390.955000   \n",
              "75%     94.100000    5.100400   24.000000  666.000000   20.200000  395.630000   \n",
              "max    100.000000   12.126500   24.000000  711.000000   22.000000  396.900000   \n",
              "\n",
              "            LSTAT  \n",
              "count  404.000000  \n",
              "mean    12.791609  \n",
              "std      7.235740  \n",
              "min      1.730000  \n",
              "25%      6.847500  \n",
              "50%     11.570000  \n",
              "75%     17.102500  \n",
              "max     36.980000  "
            ],
            "text/html": [
              "\n",
              "  <div id=\"df-a18e73e5-d88e-48d4-a918-b8e5dde329d7\">\n",
              "    <div class=\"colab-df-container\">\n",
              "      <div>\n",
              "<style scoped>\n",
              "    .dataframe tbody tr th:only-of-type {\n",
              "        vertical-align: middle;\n",
              "    }\n",
              "\n",
              "    .dataframe tbody tr th {\n",
              "        vertical-align: top;\n",
              "    }\n",
              "\n",
              "    .dataframe thead th {\n",
              "        text-align: right;\n",
              "    }\n",
              "</style>\n",
              "<table border=\"1\" class=\"dataframe\">\n",
              "  <thead>\n",
              "    <tr style=\"text-align: right;\">\n",
              "      <th></th>\n",
              "      <th>CRIM</th>\n",
              "      <th>ZN</th>\n",
              "      <th>INDUS</th>\n",
              "      <th>CHAS</th>\n",
              "      <th>NOX</th>\n",
              "      <th>RM</th>\n",
              "      <th>AGE</th>\n",
              "      <th>DIS</th>\n",
              "      <th>RAD</th>\n",
              "      <th>TAX</th>\n",
              "      <th>PTRATIO</th>\n",
              "      <th>B</th>\n",
              "      <th>LSTAT</th>\n",
              "    </tr>\n",
              "  </thead>\n",
              "  <tbody>\n",
              "    <tr>\n",
              "      <th>count</th>\n",
              "      <td>404.000000</td>\n",
              "      <td>404.000000</td>\n",
              "      <td>404.000000</td>\n",
              "      <td>404.000000</td>\n",
              "      <td>404.000000</td>\n",
              "      <td>400.000000</td>\n",
              "      <td>404.000000</td>\n",
              "      <td>404.000000</td>\n",
              "      <td>404.000000</td>\n",
              "      <td>404.000000</td>\n",
              "      <td>404.000000</td>\n",
              "      <td>404.000000</td>\n",
              "      <td>404.000000</td>\n",
              "    </tr>\n",
              "    <tr>\n",
              "      <th>mean</th>\n",
              "      <td>3.602814</td>\n",
              "      <td>10.836634</td>\n",
              "      <td>11.344950</td>\n",
              "      <td>0.069307</td>\n",
              "      <td>0.558064</td>\n",
              "      <td>6.280312</td>\n",
              "      <td>69.039851</td>\n",
              "      <td>3.746210</td>\n",
              "      <td>9.735149</td>\n",
              "      <td>412.341584</td>\n",
              "      <td>18.473267</td>\n",
              "      <td>353.392822</td>\n",
              "      <td>12.791609</td>\n",
              "    </tr>\n",
              "    <tr>\n",
              "      <th>std</th>\n",
              "      <td>8.099383</td>\n",
              "      <td>22.150636</td>\n",
              "      <td>6.877817</td>\n",
              "      <td>0.254290</td>\n",
              "      <td>0.116875</td>\n",
              "      <td>0.713848</td>\n",
              "      <td>28.258248</td>\n",
              "      <td>2.099057</td>\n",
              "      <td>8.731259</td>\n",
              "      <td>168.672623</td>\n",
              "      <td>2.129243</td>\n",
              "      <td>96.069235</td>\n",
              "      <td>7.235740</td>\n",
              "    </tr>\n",
              "    <tr>\n",
              "      <th>min</th>\n",
              "      <td>0.006320</td>\n",
              "      <td>0.000000</td>\n",
              "      <td>0.740000</td>\n",
              "      <td>0.000000</td>\n",
              "      <td>0.389000</td>\n",
              "      <td>3.561000</td>\n",
              "      <td>2.900000</td>\n",
              "      <td>1.129600</td>\n",
              "      <td>1.000000</td>\n",
              "      <td>187.000000</td>\n",
              "      <td>13.000000</td>\n",
              "      <td>0.320000</td>\n",
              "      <td>1.730000</td>\n",
              "    </tr>\n",
              "    <tr>\n",
              "      <th>25%</th>\n",
              "      <td>0.086962</td>\n",
              "      <td>0.000000</td>\n",
              "      <td>5.190000</td>\n",
              "      <td>0.000000</td>\n",
              "      <td>0.453000</td>\n",
              "      <td>5.878750</td>\n",
              "      <td>44.850000</td>\n",
              "      <td>2.035975</td>\n",
              "      <td>4.000000</td>\n",
              "      <td>284.000000</td>\n",
              "      <td>17.400000</td>\n",
              "      <td>374.617500</td>\n",
              "      <td>6.847500</td>\n",
              "    </tr>\n",
              "    <tr>\n",
              "      <th>50%</th>\n",
              "      <td>0.286735</td>\n",
              "      <td>0.000000</td>\n",
              "      <td>9.900000</td>\n",
              "      <td>0.000000</td>\n",
              "      <td>0.538000</td>\n",
              "      <td>6.210000</td>\n",
              "      <td>78.200000</td>\n",
              "      <td>3.122200</td>\n",
              "      <td>5.000000</td>\n",
              "      <td>337.000000</td>\n",
              "      <td>19.000000</td>\n",
              "      <td>390.955000</td>\n",
              "      <td>11.570000</td>\n",
              "    </tr>\n",
              "    <tr>\n",
              "      <th>75%</th>\n",
              "      <td>3.731923</td>\n",
              "      <td>12.500000</td>\n",
              "      <td>18.100000</td>\n",
              "      <td>0.000000</td>\n",
              "      <td>0.631000</td>\n",
              "      <td>6.630250</td>\n",
              "      <td>94.100000</td>\n",
              "      <td>5.100400</td>\n",
              "      <td>24.000000</td>\n",
              "      <td>666.000000</td>\n",
              "      <td>20.200000</td>\n",
              "      <td>395.630000</td>\n",
              "      <td>17.102500</td>\n",
              "    </tr>\n",
              "    <tr>\n",
              "      <th>max</th>\n",
              "      <td>73.534100</td>\n",
              "      <td>100.000000</td>\n",
              "      <td>27.740000</td>\n",
              "      <td>1.000000</td>\n",
              "      <td>0.871000</td>\n",
              "      <td>8.780000</td>\n",
              "      <td>100.000000</td>\n",
              "      <td>12.126500</td>\n",
              "      <td>24.000000</td>\n",
              "      <td>711.000000</td>\n",
              "      <td>22.000000</td>\n",
              "      <td>396.900000</td>\n",
              "      <td>36.980000</td>\n",
              "    </tr>\n",
              "  </tbody>\n",
              "</table>\n",
              "</div>\n",
              "      <button class=\"colab-df-convert\" onclick=\"convertToInteractive('df-a18e73e5-d88e-48d4-a918-b8e5dde329d7')\"\n",
              "              title=\"Convert this dataframe to an interactive table.\"\n",
              "              style=\"display:none;\">\n",
              "        \n",
              "  <svg xmlns=\"http://www.w3.org/2000/svg\" height=\"24px\"viewBox=\"0 0 24 24\"\n",
              "       width=\"24px\">\n",
              "    <path d=\"M0 0h24v24H0V0z\" fill=\"none\"/>\n",
              "    <path d=\"M18.56 5.44l.94 2.06.94-2.06 2.06-.94-2.06-.94-.94-2.06-.94 2.06-2.06.94zm-11 1L8.5 8.5l.94-2.06 2.06-.94-2.06-.94L8.5 2.5l-.94 2.06-2.06.94zm10 10l.94 2.06.94-2.06 2.06-.94-2.06-.94-.94-2.06-.94 2.06-2.06.94z\"/><path d=\"M17.41 7.96l-1.37-1.37c-.4-.4-.92-.59-1.43-.59-.52 0-1.04.2-1.43.59L10.3 9.45l-7.72 7.72c-.78.78-.78 2.05 0 2.83L4 21.41c.39.39.9.59 1.41.59.51 0 1.02-.2 1.41-.59l7.78-7.78 2.81-2.81c.8-.78.8-2.07 0-2.86zM5.41 20L4 18.59l7.72-7.72 1.47 1.35L5.41 20z\"/>\n",
              "  </svg>\n",
              "      </button>\n",
              "      \n",
              "  <style>\n",
              "    .colab-df-container {\n",
              "      display:flex;\n",
              "      flex-wrap:wrap;\n",
              "      gap: 12px;\n",
              "    }\n",
              "\n",
              "    .colab-df-convert {\n",
              "      background-color: #E8F0FE;\n",
              "      border: none;\n",
              "      border-radius: 50%;\n",
              "      cursor: pointer;\n",
              "      display: none;\n",
              "      fill: #1967D2;\n",
              "      height: 32px;\n",
              "      padding: 0 0 0 0;\n",
              "      width: 32px;\n",
              "    }\n",
              "\n",
              "    .colab-df-convert:hover {\n",
              "      background-color: #E2EBFA;\n",
              "      box-shadow: 0px 1px 2px rgba(60, 64, 67, 0.3), 0px 1px 3px 1px rgba(60, 64, 67, 0.15);\n",
              "      fill: #174EA6;\n",
              "    }\n",
              "\n",
              "    [theme=dark] .colab-df-convert {\n",
              "      background-color: #3B4455;\n",
              "      fill: #D2E3FC;\n",
              "    }\n",
              "\n",
              "    [theme=dark] .colab-df-convert:hover {\n",
              "      background-color: #434B5C;\n",
              "      box-shadow: 0px 1px 3px 1px rgba(0, 0, 0, 0.15);\n",
              "      filter: drop-shadow(0px 1px 2px rgba(0, 0, 0, 0.3));\n",
              "      fill: #FFFFFF;\n",
              "    }\n",
              "  </style>\n",
              "\n",
              "      <script>\n",
              "        const buttonEl =\n",
              "          document.querySelector('#df-a18e73e5-d88e-48d4-a918-b8e5dde329d7 button.colab-df-convert');\n",
              "        buttonEl.style.display =\n",
              "          google.colab.kernel.accessAllowed ? 'block' : 'none';\n",
              "\n",
              "        async function convertToInteractive(key) {\n",
              "          const element = document.querySelector('#df-a18e73e5-d88e-48d4-a918-b8e5dde329d7');\n",
              "          const dataTable =\n",
              "            await google.colab.kernel.invokeFunction('convertToInteractive',\n",
              "                                                     [key], {});\n",
              "          if (!dataTable) return;\n",
              "\n",
              "          const docLinkHtml = 'Like what you see? Visit the ' +\n",
              "            '<a target=\"_blank\" href=https://colab.research.google.com/notebooks/data_table.ipynb>data table notebook</a>'\n",
              "            + ' to learn more about interactive tables.';\n",
              "          element.innerHTML = '';\n",
              "          dataTable['output_type'] = 'display_data';\n",
              "          await google.colab.output.renderOutput(dataTable, element);\n",
              "          const docLink = document.createElement('div');\n",
              "          docLink.innerHTML = docLinkHtml;\n",
              "          element.appendChild(docLink);\n",
              "        }\n",
              "      </script>\n",
              "    </div>\n",
              "  </div>\n",
              "  "
            ]
          },
          "metadata": {},
          "execution_count": 24
        }
      ]
    },
    {
      "cell_type": "markdown",
      "source": [
        "But it may also happen that missing data may also occurs in test data set\n"
      ],
      "metadata": {
        "id": "IA75UpUUCLeb"
      }
    },
    {
      "cell_type": "code",
      "source": [
        "from sklearn.impute import SimpleImputer\n",
        "imputer = SimpleImputer(strategy= \"median\")\n",
        "imputer.fit(housing)"
      ],
      "metadata": {
        "colab": {
          "base_uri": "https://localhost:8080/"
        },
        "id": "1oGFDBtPCVsO",
        "outputId": "e6744da4-5979-456b-c934-1ddaec3558fb"
      },
      "execution_count": 25,
      "outputs": [
        {
          "output_type": "execute_result",
          "data": {
            "text/plain": [
              "SimpleImputer(strategy='median')"
            ]
          },
          "metadata": {},
          "execution_count": 25
        }
      ]
    },
    {
      "cell_type": "code",
      "source": [
        "imputer.statistics_ # this will find median for all the columns or features"
      ],
      "metadata": {
        "colab": {
          "base_uri": "https://localhost:8080/"
        },
        "id": "AdhcCOlZDQBg",
        "outputId": "e18b810a-4a76-4e3c-f5a5-6210491b38de"
      },
      "execution_count": 26,
      "outputs": [
        {
          "output_type": "execute_result",
          "data": {
            "text/plain": [
              "array([2.86735e-01, 0.00000e+00, 9.90000e+00, 0.00000e+00, 5.38000e-01,\n",
              "       6.21000e+00, 7.82000e+01, 3.12220e+00, 5.00000e+00, 3.37000e+02,\n",
              "       1.90000e+01, 3.90955e+02, 1.15700e+01])"
            ]
          },
          "metadata": {},
          "execution_count": 26
        }
      ]
    },
    {
      "cell_type": "code",
      "source": [
        "x = imputer.transform(housing)\n",
        "housing_tr = pd.DataFrame(x, columns=housing.columns)\n",
        "housing_tr.describe()"
      ],
      "metadata": {
        "colab": {
          "base_uri": "https://localhost:8080/",
          "height": 300
        },
        "id": "XxeMBgUbDo40",
        "outputId": "9f9380a6-4e70-40f0-f26a-ec5a45b692f8"
      },
      "execution_count": 27,
      "outputs": [
        {
          "output_type": "execute_result",
          "data": {
            "text/plain": [
              "             CRIM          ZN      INDUS         CHAS         NOX          RM  \\\n",
              "count  404.000000  404.000000  404.000000  404.000000  404.000000  404.000000   \n",
              "mean     3.602814   10.836634   11.344950    0.069307    0.558064    6.279616   \n",
              "std      8.099383   22.150636    6.877817    0.254290    0.116875    0.710330   \n",
              "min      0.006320    0.000000    0.740000    0.000000    0.389000    3.561000   \n",
              "25%      0.086962    0.000000    5.190000    0.000000    0.453000    5.879750   \n",
              "50%      0.286735    0.000000    9.900000    0.000000    0.538000    6.210000   \n",
              "75%      3.731923   12.500000   18.100000    0.000000    0.631000    6.630000   \n",
              "max     73.534100  100.000000   27.740000    1.000000    0.871000    8.780000   \n",
              "\n",
              "              AGE         DIS         RAD         TAX     PTRATIO           B  \\\n",
              "count  404.000000  404.000000  404.000000  404.000000  404.000000  404.000000   \n",
              "mean    69.039851    3.746210    9.735149  412.341584   18.473267  353.392822   \n",
              "std     28.258248    2.099057    8.731259  168.672623    2.129243   96.069235   \n",
              "min      2.900000    1.129600    1.000000  187.000000   13.000000    0.320000   \n",
              "25%     44.850000    2.035975    4.000000  284.000000   17.400000  374.617500   \n",
              "50%     78.200000    3.122200    5.000000  337.000000   19.000000  390.955000   \n",
              "75%     94.100000    5.100400   24.000000  666.000000   20.200000  395.630000   \n",
              "max    100.000000   12.126500   24.000000  711.000000   22.000000  396.900000   \n",
              "\n",
              "            LSTAT  \n",
              "count  404.000000  \n",
              "mean    12.791609  \n",
              "std      7.235740  \n",
              "min      1.730000  \n",
              "25%      6.847500  \n",
              "50%     11.570000  \n",
              "75%     17.102500  \n",
              "max     36.980000  "
            ],
            "text/html": [
              "\n",
              "  <div id=\"df-53e8e23d-6eb4-4ef0-9256-12be8039cd88\">\n",
              "    <div class=\"colab-df-container\">\n",
              "      <div>\n",
              "<style scoped>\n",
              "    .dataframe tbody tr th:only-of-type {\n",
              "        vertical-align: middle;\n",
              "    }\n",
              "\n",
              "    .dataframe tbody tr th {\n",
              "        vertical-align: top;\n",
              "    }\n",
              "\n",
              "    .dataframe thead th {\n",
              "        text-align: right;\n",
              "    }\n",
              "</style>\n",
              "<table border=\"1\" class=\"dataframe\">\n",
              "  <thead>\n",
              "    <tr style=\"text-align: right;\">\n",
              "      <th></th>\n",
              "      <th>CRIM</th>\n",
              "      <th>ZN</th>\n",
              "      <th>INDUS</th>\n",
              "      <th>CHAS</th>\n",
              "      <th>NOX</th>\n",
              "      <th>RM</th>\n",
              "      <th>AGE</th>\n",
              "      <th>DIS</th>\n",
              "      <th>RAD</th>\n",
              "      <th>TAX</th>\n",
              "      <th>PTRATIO</th>\n",
              "      <th>B</th>\n",
              "      <th>LSTAT</th>\n",
              "    </tr>\n",
              "  </thead>\n",
              "  <tbody>\n",
              "    <tr>\n",
              "      <th>count</th>\n",
              "      <td>404.000000</td>\n",
              "      <td>404.000000</td>\n",
              "      <td>404.000000</td>\n",
              "      <td>404.000000</td>\n",
              "      <td>404.000000</td>\n",
              "      <td>404.000000</td>\n",
              "      <td>404.000000</td>\n",
              "      <td>404.000000</td>\n",
              "      <td>404.000000</td>\n",
              "      <td>404.000000</td>\n",
              "      <td>404.000000</td>\n",
              "      <td>404.000000</td>\n",
              "      <td>404.000000</td>\n",
              "    </tr>\n",
              "    <tr>\n",
              "      <th>mean</th>\n",
              "      <td>3.602814</td>\n",
              "      <td>10.836634</td>\n",
              "      <td>11.344950</td>\n",
              "      <td>0.069307</td>\n",
              "      <td>0.558064</td>\n",
              "      <td>6.279616</td>\n",
              "      <td>69.039851</td>\n",
              "      <td>3.746210</td>\n",
              "      <td>9.735149</td>\n",
              "      <td>412.341584</td>\n",
              "      <td>18.473267</td>\n",
              "      <td>353.392822</td>\n",
              "      <td>12.791609</td>\n",
              "    </tr>\n",
              "    <tr>\n",
              "      <th>std</th>\n",
              "      <td>8.099383</td>\n",
              "      <td>22.150636</td>\n",
              "      <td>6.877817</td>\n",
              "      <td>0.254290</td>\n",
              "      <td>0.116875</td>\n",
              "      <td>0.710330</td>\n",
              "      <td>28.258248</td>\n",
              "      <td>2.099057</td>\n",
              "      <td>8.731259</td>\n",
              "      <td>168.672623</td>\n",
              "      <td>2.129243</td>\n",
              "      <td>96.069235</td>\n",
              "      <td>7.235740</td>\n",
              "    </tr>\n",
              "    <tr>\n",
              "      <th>min</th>\n",
              "      <td>0.006320</td>\n",
              "      <td>0.000000</td>\n",
              "      <td>0.740000</td>\n",
              "      <td>0.000000</td>\n",
              "      <td>0.389000</td>\n",
              "      <td>3.561000</td>\n",
              "      <td>2.900000</td>\n",
              "      <td>1.129600</td>\n",
              "      <td>1.000000</td>\n",
              "      <td>187.000000</td>\n",
              "      <td>13.000000</td>\n",
              "      <td>0.320000</td>\n",
              "      <td>1.730000</td>\n",
              "    </tr>\n",
              "    <tr>\n",
              "      <th>25%</th>\n",
              "      <td>0.086962</td>\n",
              "      <td>0.000000</td>\n",
              "      <td>5.190000</td>\n",
              "      <td>0.000000</td>\n",
              "      <td>0.453000</td>\n",
              "      <td>5.879750</td>\n",
              "      <td>44.850000</td>\n",
              "      <td>2.035975</td>\n",
              "      <td>4.000000</td>\n",
              "      <td>284.000000</td>\n",
              "      <td>17.400000</td>\n",
              "      <td>374.617500</td>\n",
              "      <td>6.847500</td>\n",
              "    </tr>\n",
              "    <tr>\n",
              "      <th>50%</th>\n",
              "      <td>0.286735</td>\n",
              "      <td>0.000000</td>\n",
              "      <td>9.900000</td>\n",
              "      <td>0.000000</td>\n",
              "      <td>0.538000</td>\n",
              "      <td>6.210000</td>\n",
              "      <td>78.200000</td>\n",
              "      <td>3.122200</td>\n",
              "      <td>5.000000</td>\n",
              "      <td>337.000000</td>\n",
              "      <td>19.000000</td>\n",
              "      <td>390.955000</td>\n",
              "      <td>11.570000</td>\n",
              "    </tr>\n",
              "    <tr>\n",
              "      <th>75%</th>\n",
              "      <td>3.731923</td>\n",
              "      <td>12.500000</td>\n",
              "      <td>18.100000</td>\n",
              "      <td>0.000000</td>\n",
              "      <td>0.631000</td>\n",
              "      <td>6.630000</td>\n",
              "      <td>94.100000</td>\n",
              "      <td>5.100400</td>\n",
              "      <td>24.000000</td>\n",
              "      <td>666.000000</td>\n",
              "      <td>20.200000</td>\n",
              "      <td>395.630000</td>\n",
              "      <td>17.102500</td>\n",
              "    </tr>\n",
              "    <tr>\n",
              "      <th>max</th>\n",
              "      <td>73.534100</td>\n",
              "      <td>100.000000</td>\n",
              "      <td>27.740000</td>\n",
              "      <td>1.000000</td>\n",
              "      <td>0.871000</td>\n",
              "      <td>8.780000</td>\n",
              "      <td>100.000000</td>\n",
              "      <td>12.126500</td>\n",
              "      <td>24.000000</td>\n",
              "      <td>711.000000</td>\n",
              "      <td>22.000000</td>\n",
              "      <td>396.900000</td>\n",
              "      <td>36.980000</td>\n",
              "    </tr>\n",
              "  </tbody>\n",
              "</table>\n",
              "</div>\n",
              "      <button class=\"colab-df-convert\" onclick=\"convertToInteractive('df-53e8e23d-6eb4-4ef0-9256-12be8039cd88')\"\n",
              "              title=\"Convert this dataframe to an interactive table.\"\n",
              "              style=\"display:none;\">\n",
              "        \n",
              "  <svg xmlns=\"http://www.w3.org/2000/svg\" height=\"24px\"viewBox=\"0 0 24 24\"\n",
              "       width=\"24px\">\n",
              "    <path d=\"M0 0h24v24H0V0z\" fill=\"none\"/>\n",
              "    <path d=\"M18.56 5.44l.94 2.06.94-2.06 2.06-.94-2.06-.94-.94-2.06-.94 2.06-2.06.94zm-11 1L8.5 8.5l.94-2.06 2.06-.94-2.06-.94L8.5 2.5l-.94 2.06-2.06.94zm10 10l.94 2.06.94-2.06 2.06-.94-2.06-.94-.94-2.06-.94 2.06-2.06.94z\"/><path d=\"M17.41 7.96l-1.37-1.37c-.4-.4-.92-.59-1.43-.59-.52 0-1.04.2-1.43.59L10.3 9.45l-7.72 7.72c-.78.78-.78 2.05 0 2.83L4 21.41c.39.39.9.59 1.41.59.51 0 1.02-.2 1.41-.59l7.78-7.78 2.81-2.81c.8-.78.8-2.07 0-2.86zM5.41 20L4 18.59l7.72-7.72 1.47 1.35L5.41 20z\"/>\n",
              "  </svg>\n",
              "      </button>\n",
              "      \n",
              "  <style>\n",
              "    .colab-df-container {\n",
              "      display:flex;\n",
              "      flex-wrap:wrap;\n",
              "      gap: 12px;\n",
              "    }\n",
              "\n",
              "    .colab-df-convert {\n",
              "      background-color: #E8F0FE;\n",
              "      border: none;\n",
              "      border-radius: 50%;\n",
              "      cursor: pointer;\n",
              "      display: none;\n",
              "      fill: #1967D2;\n",
              "      height: 32px;\n",
              "      padding: 0 0 0 0;\n",
              "      width: 32px;\n",
              "    }\n",
              "\n",
              "    .colab-df-convert:hover {\n",
              "      background-color: #E2EBFA;\n",
              "      box-shadow: 0px 1px 2px rgba(60, 64, 67, 0.3), 0px 1px 3px 1px rgba(60, 64, 67, 0.15);\n",
              "      fill: #174EA6;\n",
              "    }\n",
              "\n",
              "    [theme=dark] .colab-df-convert {\n",
              "      background-color: #3B4455;\n",
              "      fill: #D2E3FC;\n",
              "    }\n",
              "\n",
              "    [theme=dark] .colab-df-convert:hover {\n",
              "      background-color: #434B5C;\n",
              "      box-shadow: 0px 1px 3px 1px rgba(0, 0, 0, 0.15);\n",
              "      filter: drop-shadow(0px 1px 2px rgba(0, 0, 0, 0.3));\n",
              "      fill: #FFFFFF;\n",
              "    }\n",
              "  </style>\n",
              "\n",
              "      <script>\n",
              "        const buttonEl =\n",
              "          document.querySelector('#df-53e8e23d-6eb4-4ef0-9256-12be8039cd88 button.colab-df-convert');\n",
              "        buttonEl.style.display =\n",
              "          google.colab.kernel.accessAllowed ? 'block' : 'none';\n",
              "\n",
              "        async function convertToInteractive(key) {\n",
              "          const element = document.querySelector('#df-53e8e23d-6eb4-4ef0-9256-12be8039cd88');\n",
              "          const dataTable =\n",
              "            await google.colab.kernel.invokeFunction('convertToInteractive',\n",
              "                                                     [key], {});\n",
              "          if (!dataTable) return;\n",
              "\n",
              "          const docLinkHtml = 'Like what you see? Visit the ' +\n",
              "            '<a target=\"_blank\" href=https://colab.research.google.com/notebooks/data_table.ipynb>data table notebook</a>'\n",
              "            + ' to learn more about interactive tables.';\n",
              "          element.innerHTML = '';\n",
              "          dataTable['output_type'] = 'display_data';\n",
              "          await google.colab.output.renderOutput(dataTable, element);\n",
              "          const docLink = document.createElement('div');\n",
              "          docLink.innerHTML = docLinkHtml;\n",
              "          element.appendChild(docLink);\n",
              "        }\n",
              "      </script>\n",
              "    </div>\n",
              "  </div>\n",
              "  "
            ]
          },
          "metadata": {},
          "execution_count": 27
        }
      ]
    },
    {
      "cell_type": "markdown",
      "source": [
        "**Sci_Kit Learn Design**\n",
        "\n",
        "Primarily there are three types of objects are present there in scikit learn\n",
        "- Estimators - It estimates some parameter based on dataset. Eg. imputer. It has fit method and transform method.\n",
        "\n",
        "  Fit Method - Fits the dataset and calculates internal parameters\n",
        "\n",
        "- Transformers - Transform method takes input and returns output based on the learning from fit(). It also has a convenience function called fit_transform() which fits and then transforms. \n",
        "- Predictors - LinearRegression model is an example of predictor. fit() and predict() are two common functions. It also gives score() function which will evaluate the predictions."
      ],
      "metadata": {
        "id": "npp1o9JgGlU_"
      }
    },
    {
      "cell_type": "markdown",
      "source": [
        "**Feature Scaling**\n",
        "\n",
        "There are two types of feature scaling method\n",
        "- Min Max Scaling (Normalization)\n",
        "\n",
        "  (Value-min)/(max-min)\n",
        "\n",
        "  sklearn provides a class called MinMaxScaler for this\n",
        "- Standardization\n",
        "\n",
        "  (value-mean)/std\n",
        "\n",
        "  Sklearn provides a class called StandardScaler for this"
      ],
      "metadata": {
        "id": "Z7dDMLTpJ14N"
      }
    },
    {
      "cell_type": "markdown",
      "source": [
        "***Creating a pipeline ***"
      ],
      "metadata": {
        "id": "zOFn0rCCJZwV"
      }
    },
    {
      "cell_type": "code",
      "source": [
        "from sklearn.pipeline import Pipeline\n",
        "from sklearn.preprocessing import StandardScaler\n",
        "my_pipeline = Pipeline([\n",
        "   ('imputer', SimpleImputer(strategy= \"median\")),\n",
        "   #.. you can add as many as you want in your pipeline\n",
        "   ('std_scaler', StandardScaler()),\n",
        "])"
      ],
      "metadata": {
        "id": "H0L7-K0QJDq-"
      },
      "execution_count": 28,
      "outputs": []
    },
    {
      "cell_type": "code",
      "source": [
        "housing_num_tr = my_pipeline.fit_transform(housing)\n",
        "# Remember here that here housing_num_tr is a numpy array lets check it by printing\n",
        "housing_num_tr"
      ],
      "metadata": {
        "colab": {
          "base_uri": "https://localhost:8080/"
        },
        "id": "3mlorV2CLZZ1",
        "outputId": "93142e00-11d7-4db3-8329-c9d61d2da73e"
      },
      "execution_count": 29,
      "outputs": [
        {
          "output_type": "execute_result",
          "data": {
            "text/plain": [
              "array([[-0.43942006,  3.12628155, -1.12165014, ..., -0.97491834,\n",
              "         0.41164221, -0.86091034],\n",
              "       [-0.44352175,  3.12628155, -1.35893781, ..., -0.69277865,\n",
              "         0.39131918, -0.94116739],\n",
              "       [ 0.15682292, -0.4898311 ,  0.98336806, ...,  0.81196637,\n",
              "         0.44624347,  0.81480158],\n",
              "       ...,\n",
              "       [-0.43525657, -0.4898311 , -1.23083158, ..., -0.22254583,\n",
              "         0.41831233, -1.27603303],\n",
              "       [ 0.14210728, -0.4898311 ,  0.98336806, ...,  0.81196637,\n",
              "        -3.15239177,  0.73869575],\n",
              "       [-0.43974024, -0.4898311 ,  0.37049623, ..., -0.97491834,\n",
              "         0.41070422,  0.09940681]])"
            ]
          },
          "metadata": {},
          "execution_count": 29
        }
      ]
    },
    {
      "cell_type": "code",
      "source": [
        "housing_num_tr.shape"
      ],
      "metadata": {
        "colab": {
          "base_uri": "https://localhost:8080/"
        },
        "id": "OV13RilZNHf9",
        "outputId": "157f66f4-23d4-421d-da50-4f996d890a5e"
      },
      "execution_count": 30,
      "outputs": [
        {
          "output_type": "execute_result",
          "data": {
            "text/plain": [
              "(404, 13)"
            ]
          },
          "metadata": {},
          "execution_count": 30
        }
      ]
    },
    {
      "cell_type": "markdown",
      "source": [
        "**Selecting a desired model for Dragon Real Estates**"
      ],
      "metadata": {
        "id": "6L51VRzBMpwI"
      }
    },
    {
      "cell_type": "code",
      "source": [
        "from sklearn.linear_model import LinearRegression # we have tried this model earlier and this has returned the error value as 23.. which is showing less efficiency of this model\n",
        "from sklearn.tree import DecisionTreeRegressor\n",
        "from sklearn.ensemble import RandomForestRegressor\n",
        "# model = LinearRegression()\n",
        "# model = DecisionTreeRegressor()\n",
        "model = RandomForestRegressor()\n",
        "model.fit(housing_num_tr, housing_labels)"
      ],
      "metadata": {
        "colab": {
          "base_uri": "https://localhost:8080/"
        },
        "id": "zizrlcK8LydS",
        "outputId": "2684b2d6-7375-4164-c27b-94751b4745c8"
      },
      "execution_count": 31,
      "outputs": [
        {
          "output_type": "execute_result",
          "data": {
            "text/plain": [
              "RandomForestRegressor()"
            ]
          },
          "metadata": {},
          "execution_count": 31
        }
      ]
    },
    {
      "cell_type": "code",
      "source": [
        "some_data = housing.iloc[:5]   # for 5 features dataset\n",
        "some_labels = housing_labels.iloc[:5]  # for  5 output or 'MEDV' in this case corresponds to that 5 features\n",
        "prepared_data = my_pipeline.transform(some_data)\n",
        "model.predict(prepared_data)  #predicted data from the model"
      ],
      "metadata": {
        "colab": {
          "base_uri": "https://localhost:8080/"
        },
        "id": "XcaqbTdhP7Qe",
        "outputId": "e8dd58ca-2e57-4dce-d608-af6853564a89"
      },
      "execution_count": 32,
      "outputs": [
        {
          "output_type": "execute_result",
          "data": {
            "text/plain": [
              "array([22.198, 25.375, 16.557, 23.319, 23.427])"
            ]
          },
          "metadata": {},
          "execution_count": 32
        }
      ]
    },
    {
      "cell_type": "code",
      "source": [
        "list(some_labels)  # Actual Output values corresponding to dataset"
      ],
      "metadata": {
        "colab": {
          "base_uri": "https://localhost:8080/"
        },
        "id": "c_SqOY93VTAJ",
        "outputId": "ae188cd6-75f5-46a3-cf3f-86259138c9e7"
      },
      "execution_count": 33,
      "outputs": [
        {
          "output_type": "execute_result",
          "data": {
            "text/plain": [
              "[21.9, 24.5, 16.7, 23.1, 23.0]"
            ]
          },
          "metadata": {},
          "execution_count": 33
        }
      ]
    },
    {
      "cell_type": "markdown",
      "source": [
        "***Note ***Always remember don't use test data until all your model is prepared finally with all the training dataset otherwise model will read all the errors and noise from the test data as well and it will become overfitted model*** :- ***"
      ],
      "metadata": {
        "id": "nLbieyN7aJKy"
      }
    },
    {
      "cell_type": "markdown",
      "source": [
        "**Evaluating the Model using the RMS method**"
      ],
      "metadata": {
        "id": "8HxN5h1gVw7Y"
      }
    },
    {
      "cell_type": "code",
      "source": [
        "from sklearn.metrics import mean_squared_error  \n",
        "housing_predictions = model.predict(housing_num_tr)  \n",
        "mse = mean_squared_error(housing_labels, housing_predictions)\n",
        "rmse = np.sqrt(mse)"
      ],
      "metadata": {
        "id": "546mgvouVumn"
      },
      "execution_count": 34,
      "outputs": []
    },
    {
      "cell_type": "code",
      "source": [
        "rmse"
      ],
      "metadata": {
        "colab": {
          "base_uri": "https://localhost:8080/"
        },
        "id": "cADh-VGkXS5q",
        "outputId": "756f053d-e138-42c6-d8b4-7598917ed980"
      },
      "execution_count": 35,
      "outputs": [
        {
          "output_type": "execute_result",
          "data": {
            "text/plain": [
              "1.1994342540143539"
            ]
          },
          "metadata": {},
          "execution_count": 35
        }
      ]
    },
    {
      "cell_type": "markdown",
      "source": [
        "Here our error is coming zero that means it has detected the noise and pattern and that's why return error as zero here."
      ],
      "metadata": {
        "id": "m11tURjSbFIR"
      }
    },
    {
      "cell_type": "markdown",
      "source": [
        "**Using better evaluation technique i.e. Cross Validation**"
      ],
      "metadata": {
        "id": "DJGnDPVJbUcY"
      }
    },
    {
      "cell_type": "code",
      "source": [
        "# Distributing the data into 10 equal datasets\n",
        "from sklearn.model_selection import cross_val_score\n",
        "scores=cross_val_score(model, housing_num_tr, housing_labels, scoring=\"neg_mean_squared_error\", cv=10)\n",
        "rmse_scores = np.sqrt(-scores)"
      ],
      "metadata": {
        "id": "3Is4OH-fbcnQ"
      },
      "execution_count": 36,
      "outputs": []
    },
    {
      "cell_type": "code",
      "source": [
        "rmse_scores"
      ],
      "metadata": {
        "colab": {
          "base_uri": "https://localhost:8080/"
        },
        "id": "6dH9jUlpcdp5",
        "outputId": "aaf7ce3e-587c-4c2c-9687-457ec02e1d5f"
      },
      "execution_count": 37,
      "outputs": [
        {
          "output_type": "execute_result",
          "data": {
            "text/plain": [
              "array([2.85212408, 2.66535235, 4.35359225, 2.55815611, 3.36257222,\n",
              "       2.66545234, 4.3017627 , 3.61253254, 3.18179036, 3.39213585])"
            ]
          },
          "metadata": {},
          "execution_count": 37
        }
      ]
    },
    {
      "cell_type": "code",
      "source": [
        "def print_scores(scores):\n",
        "  print(\"Scores:\", scores)\n",
        "  print(\"Mean:\", scores.mean())\n",
        "  print(\"Std Deviation:\", scores.std())"
      ],
      "metadata": {
        "id": "lo1AXtNEdJvQ"
      },
      "execution_count": 38,
      "outputs": []
    },
    {
      "cell_type": "code",
      "source": [
        "print_scores(rmse_scores)  # change the model form the above 3 whichever you want but generally RandomForestRegressor will work best"
      ],
      "metadata": {
        "colab": {
          "base_uri": "https://localhost:8080/"
        },
        "id": "Gp-KmEl5df15",
        "outputId": "94f6c91e-0164-4493-9ac8-4da705500027"
      },
      "execution_count": 39,
      "outputs": [
        {
          "output_type": "stream",
          "name": "stdout",
          "text": [
            "Scores: [2.85212408 2.66535235 4.35359225 2.55815611 3.36257222 2.66545234\n",
            " 4.3017627  3.61253254 3.18179036 3.39213585]\n",
            "Mean: 3.294547081234252\n",
            "Std Deviation: 0.615929847243977\n"
          ]
        }
      ]
    },
    {
      "cell_type": "markdown",
      "source": [
        "**Saving the Model**"
      ],
      "metadata": {
        "id": "s6ay5JXWMLYa"
      }
    },
    {
      "cell_type": "markdown",
      "source": [
        "We will here now use joblib to deploy this model"
      ],
      "metadata": {
        "id": "2meMECppK440"
      }
    },
    {
      "cell_type": "code",
      "source": [
        "from joblib import dump, load\n",
        "dump(model, 'Dragon.joblib')"
      ],
      "metadata": {
        "colab": {
          "base_uri": "https://localhost:8080/"
        },
        "id": "OiKQGfvnLAeV",
        "outputId": "1e40f42e-9c85-45b5-e6f5-7ba3828cced9"
      },
      "execution_count": 40,
      "outputs": [
        {
          "output_type": "execute_result",
          "data": {
            "text/plain": [
              "['Dragon.joblib']"
            ]
          },
          "metadata": {},
          "execution_count": 40
        }
      ]
    },
    {
      "cell_type": "markdown",
      "source": [
        "**Model Testing**"
      ],
      "metadata": {
        "id": "zfPLcAtBMAgs"
      }
    },
    {
      "cell_type": "code",
      "source": [
        "## Now we are set to test our model for the test data set\n",
        "x_test = strat_test_set.drop(\"MEDV\", axis=1)\n",
        "y_test = strat_test_set[\"MEDV\"].copy()\n",
        "x_test_prepared = my_pipeline.transform(x_test)\n",
        "final_predictions = model.predict(x_test_prepared)\n",
        "final_mse = mean_squared_error(y_test, final_predictions)\n",
        "final_rmse = np.sqrt(final_mse)"
      ],
      "metadata": {
        "id": "uMUQGmQCLLsA"
      },
      "execution_count": 41,
      "outputs": []
    },
    {
      "cell_type": "code",
      "source": [
        "print('The final RMSE in the test data is : ',final_rmse)"
      ],
      "metadata": {
        "colab": {
          "base_uri": "https://localhost:8080/"
        },
        "id": "2bPvY7xON1Gz",
        "outputId": "ff9bd4d0-ea5f-4e73-e33e-ad53c336f9e1"
      },
      "execution_count": 42,
      "outputs": [
        {
          "output_type": "stream",
          "name": "stdout",
          "text": [
            "The final RMSE in the test data is :  2.854413866209284\n"
          ]
        }
      ]
    },
    {
      "cell_type": "markdown",
      "source": [
        "**The following things we need to keep in mind after this project:**\n",
        "- We need to finetune this model or we have tried just three models\n",
        "- This dataset is not very large \n",
        "- RMSE is very less so we can say RandomForestRegressor is best model in this case, this may not be true for some other problem\n"
      ],
      "metadata": {
        "id": "l_aHes11OQ0G"
      }
    },
    {
      "cell_type": "code",
      "source": [
        "## Rough Cell to just print the prepared data in which we can alter the values to check the model\n",
        "## lets print 1st row of prepared data\n",
        "prepared_data[0]"
      ],
      "metadata": {
        "colab": {
          "base_uri": "https://localhost:8080/"
        },
        "id": "58KeiLAcQlXl",
        "outputId": "41d699fd-b1f1-43bf-96a4-a7a4aa12c195"
      },
      "execution_count": 43,
      "outputs": [
        {
          "output_type": "execute_result",
          "data": {
            "text/plain": [
              "array([-0.43942006,  3.12628155, -1.12165014, -0.27288841, -1.42262747,\n",
              "       -0.24190026, -1.31238772,  2.61111401, -1.0016859 , -0.5778192 ,\n",
              "       -0.97491834,  0.41164221, -0.86091034])"
            ]
          },
          "metadata": {},
          "execution_count": 43
        }
      ]
    },
    {
      "cell_type": "markdown",
      "source": [
        "**Using the Model- Launching the Model RandomForestRegressor** "
      ],
      "metadata": {
        "id": "oWq1Ez0rP2ql"
      }
    },
    {
      "cell_type": "code",
      "source": [
        "from joblib import dump, load\n",
        "model = load('Dragon.joblib')"
      ],
      "metadata": {
        "id": "p7y4C-GaQEd5"
      },
      "execution_count": 44,
      "outputs": []
    },
    {
      "cell_type": "code",
      "source": [
        "features = np.array([[-0.43942006,  3.12628155, -1.12165014, -0.27288841, -1.42262747,\n",
        "       -2.24190026, -1.31238772,  2.61111401, -1.0016859 , -0.5778192 ,\n",
        "       -0.97491834,  0.41164221, -0.86091034]])\n",
        "print('The predicted value from the model according to the given features is : ',model.predict(features))"
      ],
      "metadata": {
        "colab": {
          "base_uri": "https://localhost:8080/"
        },
        "id": "a5PBAaCHRMzt",
        "outputId": "3c3d450d-e9f8-4832-92f0-aad7f2ba3c2d"
      },
      "execution_count": 45,
      "outputs": [
        {
          "output_type": "stream",
          "name": "stdout",
          "text": [
            "The predicted value from the model according to the given features is :  [21.336]\n"
          ]
        }
      ]
    }
  ]
}